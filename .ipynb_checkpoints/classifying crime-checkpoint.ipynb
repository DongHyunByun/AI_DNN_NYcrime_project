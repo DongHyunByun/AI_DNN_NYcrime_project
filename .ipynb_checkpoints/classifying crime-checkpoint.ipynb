{
 "cells": [
  {
   "cell_type": "code",
   "execution_count": 2,
   "metadata": {},
   "outputs": [],
   "source": [
    "import pandas as pd"
   ]
  },
  {
   "cell_type": "code",
   "execution_count": 3,
   "metadata": {},
   "outputs": [],
   "source": [
    "csv=pd.read_csv(\"NYPD_Complaint_Data_Current_YTD.csv\")\n",
    "\n",
    "crime=set()\n",
    "for i in range(361740):\n",
    "    crime.add((csv[\"KY_CD\"][i],csv[\"OFNS_DESC\"][i]))"
   ]
  },
  {
   "cell_type": "code",
   "execution_count": 4,
   "metadata": {
    "scrolled": false
   },
   "outputs": [
    {
     "name": "stdout",
     "output_type": "stream",
     "text": [
      "(361, nan)\n",
      "(126, nan)\n",
      "(365, 'ADMINISTRATIVE CODE')\n",
      "(455, 'UNLAWFUL POSS. WEAP. ON SCHOOL')\n",
      "(125, 'NYS LAWS-UNCLASSIFIED FELONY')\n",
      "(347, 'INTOXICATED & IMPAIRED DRIVING')\n",
      "(345, 'OFFENSES RELATED TO CHILDREN')\n",
      "(115, 'PROSTITUTION & RELATED OFFENSES')\n",
      "(107, 'BURGLARY')\n",
      "(364, 'OTHER STATE LAWS (NON PENAL LA')\n",
      "(343, 'OTHER OFFENSES RELATED TO THEF')\n",
      "(110, 'GRAND LARCENY OF MOTOR VEHICLE')\n",
      "(353, 'UNAUTHORIZED USE OF A VEHICLE')\n",
      "(122, 'GAMBLING')\n",
      "(120, 'ENDAN WELFARE INCOMP')\n",
      "(346, 'ALCOHOLIC BEVERAGE CONTROL LAW')\n",
      "(685, 'ADMINISTRATIVE CODES')\n",
      "(236, 'DANGEROUS WEAPONS')\n",
      "(118, 'DANGEROUS WEAPONS')\n",
      "(124, 'KIDNAPPING & RELATED OFFENSES')\n",
      "(571, 'LOITERING/GAMBLING (CARDS, DIC')\n",
      "(676, 'NEW YORK CITY HEALTH CODE')\n",
      "(112, 'THEFT-FRAUD')\n",
      "(238, 'FRAUDULENT ACCOSTING')\n",
      "(117, 'DANGEROUS DRUGS')\n",
      "(341, 'PETIT LARCENY')\n",
      "(235, 'DANGEROUS DRUGS')\n",
      "(355, 'OFFENSES AGAINST THE PERSON')\n",
      "(677, 'NYS LAWS-UNCLASSIFIED VIOLATION')\n",
      "(103, 'HOMICIDE-NEGLIGENT,UNCLASSIFIE')\n",
      "(237, 'ESCAPE 3')\n",
      "(350, 'GAMBLING')\n",
      "(105, 'ROBBERY')\n",
      "(351, 'CRIMINAL MISCHIEF & RELATED OF')\n",
      "(359, 'OFFENSES AGAINST PUBLIC ADMINI')\n",
      "(352, 'CRIMINAL TRESPASS')\n",
      "(109, 'GRAND LARCENY')\n",
      "(344, 'ASSAULT 3 & RELATED OFFENSES')\n",
      "(358, 'OFFENSES INVOLVING FRAUD')\n",
      "(364, 'AGRICULTURE & MRKTS LAW-UNCLASSIFIED')\n",
      "(230, 'JOSTLING')\n",
      "(361, 'OFF. AGNST PUB ORD SENSBLTY &')\n",
      "(364, nan)\n",
      "(234, 'PROSTITUTION & RELATED OFFENSES')\n",
      "(124, 'KIDNAPPING')\n",
      "(349, 'DISRUPTION OF A RELIGIOUS SERV')\n",
      "(232, 'POSSESSION OF STOLEN PROPERTY')\n",
      "(116, 'SEX CRIMES')\n",
      "(343, 'THEFT OF SERVICES')\n",
      "(120, 'CHILD ABANDONMENT/NON SUPPORT')\n",
      "(677, 'OTHER STATE LAWS')\n",
      "(345, 'ENDAN WELFARE INCOMP')\n",
      "(121, 'CRIMINAL MISCHIEF & RELATED OF')\n",
      "(678, 'MISCELLANEOUS PENAL LAW')\n",
      "(675, 'ADMINISTRATIVE CODE')\n",
      "(366, 'NEW YORK CITY HEALTH CODE')\n",
      "(342, 'PETIT LARCENY OF MOTOR VEHICLE')\n",
      "(348, 'VEHICLE AND TRAFFIC LAWS')\n",
      "(578, 'HARRASSMENT 2')\n",
      "(111, 'POSSESSION OF STOLEN PROPERTY')\n",
      "(363, 'OFFENSES AGAINST PUBLIC SAFETY')\n",
      "(356, 'PROSTITUTION & RELATED OFFENSES')\n",
      "(104, 'RAPE')\n",
      "(113, 'FORGERY')\n",
      "(340, 'FRAUDS')\n",
      "(572, 'DISORDERLY CONDUCT')\n",
      "(102, 'HOMICIDE-NEGLIGENT-VEHICLE')\n",
      "(126, 'MISCELLANEOUS PENAL LAW')\n",
      "(101, 'MURDER & NON-NEGL. MANSLAUGHTER')\n",
      "(364, 'OTHER STATE LAWS (NON PENAL LAW)')\n",
      "(114, 'ARSON')\n",
      "(231, \"BURGLAR'S TOOLS\")\n",
      "(354, 'ANTICIPATORY OFFENSES')\n",
      "(106, 'FELONY ASSAULT')\n",
      "(233, 'SEX CRIMES')\n"
     ]
    }
   ],
   "source": [
    "for i in crime:\n",
    "    print(i)"
   ]
  }
 ],
 "metadata": {
  "kernelspec": {
   "display_name": "Python 3",
   "language": "python",
   "name": "python3"
  },
  "language_info": {
   "codemirror_mode": {
    "name": "ipython",
    "version": 3
   },
   "file_extension": ".py",
   "mimetype": "text/x-python",
   "name": "python",
   "nbconvert_exporter": "python",
   "pygments_lexer": "ipython3",
   "version": "3.7.3"
  }
 },
 "nbformat": 4,
 "nbformat_minor": 2
}
