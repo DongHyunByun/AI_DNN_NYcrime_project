{
 "cells": [
  {
   "cell_type": "code",
   "execution_count": 11,
   "metadata": {},
   "outputs": [],
   "source": [
    "import pandas as pd"
   ]
  },
  {
   "cell_type": "code",
   "execution_count": 12,
   "metadata": {},
   "outputs": [],
   "source": [
    "csv=pd.read_csv(\"NYPD_Complaint_Data_Current_YTD.csv\")\n",
    "\n",
    "crime=set()\n",
    "for i in range(361740):\n",
    "    crime.add((csv[\"KY_CD\"][i],csv[\"OFNS_DESC\"][i]))"
   ]
  },
  {
   "cell_type": "code",
   "execution_count": 13,
   "metadata": {
    "scrolled": false
   },
   "outputs": [
    {
     "name": "stdout",
     "output_type": "stream",
     "text": [
      "(361, nan)\n",
      "(232, 'POSSESSION OF STOLEN PROPERTY')\n",
      "(106, 'FELONY ASSAULT')\n",
      "(677, 'OTHER STATE LAWS')\n",
      "(675, 'ADMINISTRATIVE CODE')\n",
      "(572, 'DISORDERLY CONDUCT')\n",
      "(126, nan)\n",
      "(121, 'CRIMINAL MISCHIEF & RELATED OF')\n",
      "(354, 'ANTICIPATORY OFFENSES')\n",
      "(113, 'FORGERY')\n",
      "(361, 'OFF. AGNST PUB ORD SENSBLTY &')\n",
      "(110, 'GRAND LARCENY OF MOTOR VEHICLE')\n",
      "(233, 'SEX CRIMES')\n",
      "(346, 'ALCOHOLIC BEVERAGE CONTROL LAW')\n",
      "(117, 'DANGEROUS DRUGS')\n",
      "(114, 'ARSON')\n",
      "(231, \"BURGLAR'S TOOLS\")\n",
      "(118, 'DANGEROUS WEAPONS')\n",
      "(349, 'DISRUPTION OF A RELIGIOUS SERV')\n",
      "(352, 'CRIMINAL TRESPASS')\n",
      "(365, 'ADMINISTRATIVE CODE')\n",
      "(102, 'HOMICIDE-NEGLIGENT-VEHICLE')\n",
      "(366, 'NEW YORK CITY HEALTH CODE')\n",
      "(359, 'OFFENSES AGAINST PUBLIC ADMINI')\n",
      "(125, 'NYS LAWS-UNCLASSIFIED FELONY')\n",
      "(353, 'UNAUTHORIZED USE OF A VEHICLE')\n",
      "(342, 'PETIT LARCENY OF MOTOR VEHICLE')\n",
      "(234, 'PROSTITUTION & RELATED OFFENSES')\n",
      "(364, 'AGRICULTURE & MRKTS LAW-UNCLASSIFIED')\n",
      "(235, 'DANGEROUS DRUGS')\n",
      "(116, 'SEX CRIMES')\n",
      "(103, 'HOMICIDE-NEGLIGENT,UNCLASSIFIE')\n",
      "(358, 'OFFENSES INVOLVING FRAUD')\n",
      "(104, 'RAPE')\n",
      "(348, 'VEHICLE AND TRAFFIC LAWS')\n",
      "(111, 'POSSESSION OF STOLEN PROPERTY')\n",
      "(230, 'JOSTLING')\n",
      "(364, nan)\n",
      "(236, 'DANGEROUS WEAPONS')\n",
      "(344, 'ASSAULT 3 & RELATED OFFENSES')\n",
      "(351, 'CRIMINAL MISCHIEF & RELATED OF')\n",
      "(356, 'PROSTITUTION & RELATED OFFENSES')\n",
      "(341, 'PETIT LARCENY')\n",
      "(124, 'KIDNAPPING & RELATED OFFENSES')\n",
      "(676, 'NEW YORK CITY HEALTH CODE')\n",
      "(124, 'KIDNAPPING')\n",
      "(364, 'OTHER STATE LAWS (NON PENAL LA')\n",
      "(105, 'ROBBERY')\n",
      "(363, 'OFFENSES AGAINST PUBLIC SAFETY')\n",
      "(578, 'HARRASSMENT 2')\n",
      "(340, 'FRAUDS')\n",
      "(112, 'THEFT-FRAUD')\n",
      "(109, 'GRAND LARCENY')\n",
      "(678, 'MISCELLANEOUS PENAL LAW')\n",
      "(343, 'THEFT OF SERVICES')\n",
      "(107, 'BURGLARY')\n",
      "(571, 'LOITERING/GAMBLING (CARDS, DIC')\n",
      "(345, 'ENDAN WELFARE INCOMP')\n",
      "(685, 'ADMINISTRATIVE CODES')\n",
      "(343, 'OTHER OFFENSES RELATED TO THEF')\n",
      "(350, 'GAMBLING')\n",
      "(115, 'PROSTITUTION & RELATED OFFENSES')\n",
      "(238, 'FRAUDULENT ACCOSTING')\n",
      "(120, 'CHILD ABANDONMENT/NON SUPPORT')\n",
      "(120, 'ENDAN WELFARE INCOMP')\n",
      "(677, 'NYS LAWS-UNCLASSIFIED VIOLATION')\n",
      "(347, 'INTOXICATED & IMPAIRED DRIVING')\n",
      "(345, 'OFFENSES RELATED TO CHILDREN')\n",
      "(364, 'OTHER STATE LAWS (NON PENAL LAW)')\n",
      "(122, 'GAMBLING')\n",
      "(455, 'UNLAWFUL POSS. WEAP. ON SCHOOL')\n",
      "(126, 'MISCELLANEOUS PENAL LAW')\n",
      "(355, 'OFFENSES AGAINST THE PERSON')\n",
      "(101, 'MURDER & NON-NEGL. MANSLAUGHTER')\n",
      "(237, 'ESCAPE 3')\n"
     ]
    }
   ],
   "source": [
    "for i in crime:\n",
    "    print(i)"
   ]
  }
 ],
 "metadata": {
  "kernelspec": {
   "display_name": "Python 3",
   "language": "python",
   "name": "python3"
  },
  "language_info": {
   "codemirror_mode": {
    "name": "ipython",
    "version": 3
   },
   "file_extension": ".py",
   "mimetype": "text/x-python",
   "name": "python",
   "nbconvert_exporter": "python",
   "pygments_lexer": "ipython3",
   "version": "3.7.3"
  }
 },
 "nbformat": 4,
 "nbformat_minor": 2
}
